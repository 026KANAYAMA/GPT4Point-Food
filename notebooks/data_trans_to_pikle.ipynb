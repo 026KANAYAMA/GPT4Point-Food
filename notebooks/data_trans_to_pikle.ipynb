{
 "cells": [
  {
   "cell_type": "code",
   "execution_count": 3,
   "id": "bcc1a678",
   "metadata": {},
   "outputs": [
    {
     "name": "stdout",
     "output_type": "stream",
     "text": [
      "Saved normalized pointcloud as /home/yanai-lab/kanayama-r/Projects/LLM/GPT4Point-Food/data/cap3d/points/Cap3D_pcs_8192_xyz_w_color/3.pkl\n"
     ]
    }
   ],
   "source": [
    "import numpy as np\n",
    "import pickle\n",
    "\n",
    "# 自作の点群をロード\n",
    "data = np.load('/home/yanai-lab/kanayama-r/Projects/3D/out/UECFood3D/v2/tamago/LL.obj.npy')  # shape: (N, 6)\n",
    "\n",
    "# XYZとRGBを分割\n",
    "xyz = data[:, :3]\n",
    "rgb = data[:, 3:]\n",
    "\n",
    "# 1. 座標を正規化（Cap3Dは通常[-1,1]範囲）\n",
    "# 点群の重心を引いて原点に移動\n",
    "centroid = np.mean(xyz, axis=0)\n",
    "xyz_centered = xyz - centroid\n",
    "\n",
    "# 最も離れた点が1になるようスケーリング\n",
    "max_dist = np.max(np.linalg.norm(xyz_centered, axis=1))\n",
    "xyz_normalized = xyz_centered / max_dist  # [-1,1]程度の範囲になるよう調整済み\n",
    "\n",
    "# RGBが0-1以外の範囲であれば調整（今回はすでに正しいのでスキップ可）\n",
    "rgb_normalized = rgb  # RGBは既に[0,1]なのでそのまま\n",
    "\n",
    "# 最終的なフォーマットは (N, 6)\n",
    "final_data = np.hstack((xyz_normalized, rgb_normalized))\n",
    "\n",
    "# Cap3Dと同じ8192点になるように調整（必要に応じてランダムにサンプリング）\n",
    "num_points_target = 8192\n",
    "\n",
    "if final_data.shape[0] >= num_points_target:\n",
    "    indices = np.random.choice(final_data.shape[0], num_points_target, replace=False)\n",
    "else:\n",
    "    indices = np.random.choice(final_data.shape[0], num_points_target, replace=True)\n",
    "\n",
    "final_data_sampled = final_data[indices]\n",
    "\n",
    "# .pklで保存 (Cap3Dと同じ形式)\n",
    "save_path = '/home/yanai-lab/kanayama-r/Projects/LLM/GPT4Point-Food/data/cap3d/points/Cap3D_pcs_8192_xyz_w_color/3.pkl'\n",
    "with open(save_path, 'wb') as f:\n",
    "    pickle.dump(final_data_sampled, f)\n",
    "\n",
    "print(f'Saved normalized pointcloud as {save_path}')\n"
   ]
  },
  {
   "cell_type": "code",
   "execution_count": null,
   "id": "6f42cb6a",
   "metadata": {},
   "outputs": [],
   "source": []
  }
 ],
 "metadata": {
  "kernelspec": {
   "display_name": "env3",
   "language": "python",
   "name": "python3"
  },
  "language_info": {
   "codemirror_mode": {
    "name": "ipython",
    "version": 3
   },
   "file_extension": ".py",
   "mimetype": "text/x-python",
   "name": "python",
   "nbconvert_exporter": "python",
   "pygments_lexer": "ipython3",
   "version": "3.9.0"
  }
 },
 "nbformat": 4,
 "nbformat_minor": 5
}
