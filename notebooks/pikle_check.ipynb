{
 "cells": [
  {
   "cell_type": "code",
   "execution_count": 2,
   "id": "e36fbdc5",
   "metadata": {},
   "outputs": [
    {
     "name": "stdout",
     "output_type": "stream",
     "text": [
      "Data type: <class 'numpy.ndarray'>\n",
      "Shape: (8192, 6)\n",
      "Data sample: [[-0.4808008   0.21542576 -0.18394719  0.67974913  0.7221055   0.5686351 ]\n",
      " [-0.2969874  -0.463121    0.40988597  0.43964466  0.515918    0.6353288 ]\n",
      " [-0.11162131 -0.51137555  0.6759242   0.875934    0.84136087  0.7026815 ]\n",
      " [-0.47937068  0.32138056 -0.20529056  0.5830543   0.59561384  0.53942394]\n",
      " [ 0.314228   -0.5652337   0.76273954  0.7479252   0.8391794   0.92852724]]\n"
     ]
    }
   ],
   "source": [
    "import pickle\n",
    "import numpy as np\n",
    "\n",
    "# ファイルパスを指定\n",
    "pkl_path = \"/home/yanai-lab/kanayama-r/Projects/LLM/GPT4Point-Food/data/cap3d/points/Cap3D_pcs_8192_xyz_w_color/1.pkl\"\n",
    "\n",
    "# .pklを開いて中身をロード\n",
    "with open(pkl_path, \"rb\") as f:\n",
    "    data = pickle.load(f)\n",
    "\n",
    "# 中身のタイプと形状を確認\n",
    "print(\"Data type:\", type(data))\n",
    "if isinstance(data, np.ndarray):\n",
    "    print(\"Shape:\", data.shape)\n",
    "    print(\"Data sample:\", data[:5])  # 先頭5点だけ表示\n",
    "else:\n",
    "    print(\"Content:\", data)\n"
   ]
  },
  {
   "cell_type": "code",
   "execution_count": null,
   "id": "d13dd0ec",
   "metadata": {},
   "outputs": [],
   "source": []
  }
 ],
 "metadata": {
  "kernelspec": {
   "display_name": "env3",
   "language": "python",
   "name": "python3"
  },
  "language_info": {
   "codemirror_mode": {
    "name": "ipython",
    "version": 3
   },
   "file_extension": ".py",
   "mimetype": "text/x-python",
   "name": "python",
   "nbconvert_exporter": "python",
   "pygments_lexer": "ipython3",
   "version": "3.9.0"
  }
 },
 "nbformat": 4,
 "nbformat_minor": 5
}
