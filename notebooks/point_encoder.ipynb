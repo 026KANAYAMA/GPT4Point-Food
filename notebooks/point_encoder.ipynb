{
 "cells": [
  {
   "cell_type": "code",
   "execution_count": 3,
   "id": "9bf0f15a",
   "metadata": {},
   "outputs": [
    {
     "name": "stdout",
     "output_type": "stream",
     "text": [
      "odict_keys(['cls_token', 'cls_pos', 'encoder.first_conv.0.weight', 'encoder.first_conv.0.bias', 'encoder.first_conv.1.weight', 'encoder.first_conv.1.bias', 'encoder.first_conv.1.running_mean', 'encoder.first_conv.1.running_var', 'encoder.first_conv.1.num_batches_tracked', 'encoder.first_conv.3.weight', 'encoder.first_conv.3.bias', 'encoder.second_conv.0.weight', 'encoder.second_conv.0.bias', 'encoder.second_conv.1.weight', 'encoder.second_conv.1.bias', 'encoder.second_conv.1.running_mean', 'encoder.second_conv.1.running_var', 'encoder.second_conv.1.num_batches_tracked', 'encoder.second_conv.3.weight', 'encoder.second_conv.3.bias', 'reduce_dim.weight', 'reduce_dim.bias', 'pos_embed.0.weight', 'pos_embed.0.bias', 'pos_embed.2.weight', 'pos_embed.2.bias', 'blocks.blocks.0.norm1.weight', 'blocks.blocks.0.norm1.bias', 'blocks.blocks.0.norm2.weight', 'blocks.blocks.0.norm2.bias', 'blocks.blocks.0.mlp.fc1.weight', 'blocks.blocks.0.mlp.fc1.bias', 'blocks.blocks.0.mlp.fc2.weight', 'blocks.blocks.0.mlp.fc2.bias', 'blocks.blocks.0.attn.qkv.weight', 'blocks.blocks.0.attn.proj.weight', 'blocks.blocks.0.attn.proj.bias', 'blocks.blocks.1.norm1.weight', 'blocks.blocks.1.norm1.bias', 'blocks.blocks.1.norm2.weight', 'blocks.blocks.1.norm2.bias', 'blocks.blocks.1.mlp.fc1.weight', 'blocks.blocks.1.mlp.fc1.bias', 'blocks.blocks.1.mlp.fc2.weight', 'blocks.blocks.1.mlp.fc2.bias', 'blocks.blocks.1.attn.qkv.weight', 'blocks.blocks.1.attn.proj.weight', 'blocks.blocks.1.attn.proj.bias', 'blocks.blocks.2.norm1.weight', 'blocks.blocks.2.norm1.bias', 'blocks.blocks.2.norm2.weight', 'blocks.blocks.2.norm2.bias', 'blocks.blocks.2.mlp.fc1.weight', 'blocks.blocks.2.mlp.fc1.bias', 'blocks.blocks.2.mlp.fc2.weight', 'blocks.blocks.2.mlp.fc2.bias', 'blocks.blocks.2.attn.qkv.weight', 'blocks.blocks.2.attn.proj.weight', 'blocks.blocks.2.attn.proj.bias', 'blocks.blocks.3.norm1.weight', 'blocks.blocks.3.norm1.bias', 'blocks.blocks.3.norm2.weight', 'blocks.blocks.3.norm2.bias', 'blocks.blocks.3.mlp.fc1.weight', 'blocks.blocks.3.mlp.fc1.bias', 'blocks.blocks.3.mlp.fc2.weight', 'blocks.blocks.3.mlp.fc2.bias', 'blocks.blocks.3.attn.qkv.weight', 'blocks.blocks.3.attn.proj.weight', 'blocks.blocks.3.attn.proj.bias', 'blocks.blocks.4.norm1.weight', 'blocks.blocks.4.norm1.bias', 'blocks.blocks.4.norm2.weight', 'blocks.blocks.4.norm2.bias', 'blocks.blocks.4.mlp.fc1.weight', 'blocks.blocks.4.mlp.fc1.bias', 'blocks.blocks.4.mlp.fc2.weight', 'blocks.blocks.4.mlp.fc2.bias', 'blocks.blocks.4.attn.qkv.weight', 'blocks.blocks.4.attn.proj.weight', 'blocks.blocks.4.attn.proj.bias', 'blocks.blocks.5.norm1.weight', 'blocks.blocks.5.norm1.bias', 'blocks.blocks.5.norm2.weight', 'blocks.blocks.5.norm2.bias', 'blocks.blocks.5.mlp.fc1.weight', 'blocks.blocks.5.mlp.fc1.bias', 'blocks.blocks.5.mlp.fc2.weight', 'blocks.blocks.5.mlp.fc2.bias', 'blocks.blocks.5.attn.qkv.weight', 'blocks.blocks.5.attn.proj.weight', 'blocks.blocks.5.attn.proj.bias', 'blocks.blocks.6.norm1.weight', 'blocks.blocks.6.norm1.bias', 'blocks.blocks.6.norm2.weight', 'blocks.blocks.6.norm2.bias', 'blocks.blocks.6.mlp.fc1.weight', 'blocks.blocks.6.mlp.fc1.bias', 'blocks.blocks.6.mlp.fc2.weight', 'blocks.blocks.6.mlp.fc2.bias', 'blocks.blocks.6.attn.qkv.weight', 'blocks.blocks.6.attn.proj.weight', 'blocks.blocks.6.attn.proj.bias', 'blocks.blocks.7.norm1.weight', 'blocks.blocks.7.norm1.bias', 'blocks.blocks.7.norm2.weight', 'blocks.blocks.7.norm2.bias', 'blocks.blocks.7.mlp.fc1.weight', 'blocks.blocks.7.mlp.fc1.bias', 'blocks.blocks.7.mlp.fc2.weight', 'blocks.blocks.7.mlp.fc2.bias', 'blocks.blocks.7.attn.qkv.weight', 'blocks.blocks.7.attn.proj.weight', 'blocks.blocks.7.attn.proj.bias', 'blocks.blocks.8.norm1.weight', 'blocks.blocks.8.norm1.bias', 'blocks.blocks.8.norm2.weight', 'blocks.blocks.8.norm2.bias', 'blocks.blocks.8.mlp.fc1.weight', 'blocks.blocks.8.mlp.fc1.bias', 'blocks.blocks.8.mlp.fc2.weight', 'blocks.blocks.8.mlp.fc2.bias', 'blocks.blocks.8.attn.qkv.weight', 'blocks.blocks.8.attn.proj.weight', 'blocks.blocks.8.attn.proj.bias', 'blocks.blocks.9.norm1.weight', 'blocks.blocks.9.norm1.bias', 'blocks.blocks.9.norm2.weight', 'blocks.blocks.9.norm2.bias', 'blocks.blocks.9.mlp.fc1.weight', 'blocks.blocks.9.mlp.fc1.bias', 'blocks.blocks.9.mlp.fc2.weight', 'blocks.blocks.9.mlp.fc2.bias', 'blocks.blocks.9.attn.qkv.weight', 'blocks.blocks.9.attn.proj.weight', 'blocks.blocks.9.attn.proj.bias', 'blocks.blocks.10.norm1.weight', 'blocks.blocks.10.norm1.bias', 'blocks.blocks.10.norm2.weight', 'blocks.blocks.10.norm2.bias', 'blocks.blocks.10.mlp.fc1.weight', 'blocks.blocks.10.mlp.fc1.bias', 'blocks.blocks.10.mlp.fc2.weight', 'blocks.blocks.10.mlp.fc2.bias', 'blocks.blocks.10.attn.qkv.weight', 'blocks.blocks.10.attn.proj.weight', 'blocks.blocks.10.attn.proj.bias', 'blocks.blocks.11.norm1.weight', 'blocks.blocks.11.norm1.bias', 'blocks.blocks.11.norm2.weight', 'blocks.blocks.11.norm2.bias', 'blocks.blocks.11.mlp.fc1.weight', 'blocks.blocks.11.mlp.fc1.bias', 'blocks.blocks.11.mlp.fc2.weight', 'blocks.blocks.11.mlp.fc2.bias', 'blocks.blocks.11.attn.qkv.weight', 'blocks.blocks.11.attn.proj.weight', 'blocks.blocks.11.attn.proj.bias', 'norm.weight', 'norm.bias'])\n"
     ]
    }
   ],
   "source": [
    "import torch\n",
    "ckpt = torch.load(\"/home/yanai-lab/kanayama-r/Projects/LLM/GPT4Point-Food/weights/point_encoder_pointbert_wcolor.pth\", map_location=\"cpu\")\n",
    "print(ckpt.keys())\n",
    "# print(list(ckpt[\"model\"].keys()))\n"
   ]
  },
  {
   "cell_type": "code",
   "execution_count": null,
   "id": "27989261",
   "metadata": {},
   "outputs": [],
   "source": []
  }
 ],
 "metadata": {
  "kernelspec": {
   "display_name": "env3",
   "language": "python",
   "name": "python3"
  },
  "language_info": {
   "codemirror_mode": {
    "name": "ipython",
    "version": 3
   },
   "file_extension": ".py",
   "mimetype": "text/x-python",
   "name": "python",
   "nbconvert_exporter": "python",
   "pygments_lexer": "ipython3",
   "version": "3.9.0"
  }
 },
 "nbformat": 4,
 "nbformat_minor": 5
}
