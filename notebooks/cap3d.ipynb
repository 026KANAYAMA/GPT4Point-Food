{
 "cells": [
  {
   "cell_type": "code",
   "execution_count": 2,
   "id": "61dd53a3",
   "metadata": {},
   "outputs": [
    {
     "data": {
      "text/plain": [
       "40797"
      ]
     },
     "execution_count": 2,
     "metadata": {},
     "output_type": "execute_result"
    }
   ],
   "source": [
    "import os\n",
    "import glob\n",
    "\n",
    "dir_path = \"/home/yanai-lab/kanayama-r/Projects/LLM/GPT4Point-Food/data/cap3d/points/Cap3D_pcs_8192_xyz_w_color/partition_0\"\n",
    "\n",
    "files = glob.glob(os.path.join(dir_path,\"*.pkl\"))\n",
    "len(files)"
   ]
  },
  {
   "cell_type": "code",
   "execution_count": null,
   "id": "4a6aecd7",
   "metadata": {},
   "outputs": [],
   "source": []
  }
 ],
 "metadata": {
  "kernelspec": {
   "display_name": "env3",
   "language": "python",
   "name": "python3"
  },
  "language_info": {
   "codemirror_mode": {
    "name": "ipython",
    "version": 3
   },
   "file_extension": ".py",
   "mimetype": "text/x-python",
   "name": "python",
   "nbconvert_exporter": "python",
   "pygments_lexer": "ipython3",
   "version": "3.9.0"
  }
 },
 "nbformat": 4,
 "nbformat_minor": 5
}
