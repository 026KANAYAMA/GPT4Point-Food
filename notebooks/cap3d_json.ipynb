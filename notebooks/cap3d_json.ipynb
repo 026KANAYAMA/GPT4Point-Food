{
 "cells": [
  {
   "cell_type": "code",
   "execution_count": 3,
   "id": "fb807cac",
   "metadata": {},
   "outputs": [],
   "source": [
    "import json\n",
    "\n",
    "# object_id <-> pklファイル名 の対応辞書を作る\n",
    "# 公式配布のpoint cloudデータをobject_idでたどれる場合\n",
    "\n",
    "def convert_test_json(test_json_path, output_json_path, pc_root):\n",
    "    with open(test_json_path) as f:\n",
    "        data = json.load(f)\n",
    "    \n",
    "    out = []\n",
    "    for item in data:\n",
    "        object_id = item['object_id']\n",
    "        # .pklファイルのパスを組み立てる\n",
    "        point_path = f\"{pc_root}/{object_id}.pkl\"\n",
    "        captions = item['captions']\n",
    "        # 期待されている構造に合わせて出力\n",
    "        out.append({\"point\": point_path, \"caption\": captions})\n",
    "\n",
    "    with open(output_json_path, \"w\") as f:\n",
    "        json.dump(out, f, indent=2)\n",
    "\n",
    "# 例\n",
    "convert_test_json(\n",
    "    \"/home/yanai-lab/kanayama-r/Projects/LLM/GPT4Point-Food/data/cap3d/annotations/val_and_test/cap3d_caption_test_pre.json\",\n",
    "    \"/home/yanai-lab/kanayama-r/Projects/LLM/GPT4Point-Food/data/cap3d/annotations/val_and_test/cap3d_caption_test.json\",\n",
    "    \"data/cap3d/point_cloud/Cap3D_pcs_8192_xyz_w_color\"\n",
    ")\n"
   ]
  },
  {
   "cell_type": "code",
   "execution_count": null,
   "id": "c20c0304",
   "metadata": {},
   "outputs": [],
   "source": []
  }
 ],
 "metadata": {
  "kernelspec": {
   "display_name": "env3",
   "language": "python",
   "name": "python3"
  },
  "language_info": {
   "codemirror_mode": {
    "name": "ipython",
    "version": 3
   },
   "file_extension": ".py",
   "mimetype": "text/x-python",
   "name": "python",
   "nbconvert_exporter": "python",
   "pygments_lexer": "ipython3",
   "version": "3.9.0"
  }
 },
 "nbformat": 4,
 "nbformat_minor": 5
}
