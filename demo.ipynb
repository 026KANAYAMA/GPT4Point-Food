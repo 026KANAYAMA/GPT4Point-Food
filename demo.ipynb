{
 "cells": [
  {
   "cell_type": "code",
   "execution_count": null,
   "metadata": {},
   "outputs": [],
   "source": [
    "import torch\n",
    "from lavis.models import load_model\n",
    "import os\n",
    "import numpy as np\n",
    "from lavis.datasets.transforms.transforms_point import pc_norm"
   ]
  },
  {
   "cell_type": "markdown",
   "metadata": {},
   "source": [
    "directly load `gpt4point_opt` model require `gpt4point_obja_stage2_opt2.7b_best_checkpoint.pth` placed in `model`, or modify config file `lavis/configs/models/gpt4point/gpt4point_caption_opt2.7b.yaml` "
   ]
  },
  {
   "cell_type": "code",
   "execution_count": null,
   "metadata": {},
   "outputs": [],
   "source": [
    "device = torch.device(\"cuda\") if torch.cuda.is_available() else \"cpu\"\n",
    "model = load_model(name=\"gpt4point_opt\", \n",
    "                   model_type=\"caption_objaverse_opt2.7b\",\n",
    "                   device=device)"
   ]
  },
  {
   "cell_type": "code",
   "execution_count": 6,
   "metadata": {},
   "outputs": [
    {
     "name": "stdout",
     "output_type": "stream",
     "text": [
      "['A 3D model of a person wearing a baseball cap']\n",
      "['He is wearing a baseball cap.']\n",
      "[\"It's in the game.\"]\n"
     ]
    }
   ],
   "source": [
    "point_path = \"readme_figs/baseball_player.npz\"\n",
    "point = np.load(point_path)['arr_0'].astype(np.float32)\n",
    "point = pc_norm(point)\n",
    "point = torch.tensor(point, device=device).unsqueeze(dim=0)\n",
    "print(model.generate({\"point\": point, \"prompt\": \"tell me something about this scene Answer:\"}))\n",
    "print(model.generate({\"point\": point, \"prompt\": \"What is he wearing? Answer:\"}))\n",
    "print(model.generate({\"point\": point, \"prompt\": \"Where is the baseball cap? Answer:\"}))"
   ]
  },
  {
   "cell_type": "code",
   "execution_count": 7,
   "metadata": {},
   "outputs": [
    {
     "name": "stdout",
     "output_type": "stream",
     "text": [
      "['a house on a small island']\n",
      "['Yes, there is a house in the scene.']\n",
      "['On a small island with a small house on it.']\n"
     ]
    }
   ],
   "source": [
    "point_path = \"readme_figs/house.npz\"\n",
    "point = np.load(point_path)['arr_0'].astype(np.float32)\n",
    "point = pc_norm(point)\n",
    "point = torch.tensor(point, device=device).unsqueeze(dim=0)\n",
    "print(model.generate({\"point\": point}))\n",
    "print(model.generate({\"point\": point, \"prompt\": \"Question: Is there a house in the scene? Answer:\"}))\n",
    "print(model.generate({\"point\": point, \"prompt\": \"Question: Where is the house? Answer:\"}))"
   ]
  }
 ],
 "metadata": {
  "kernelspec": {
   "display_name": "lavis",
   "language": "python",
   "name": "python3"
  },
  "language_info": {
   "codemirror_mode": {
    "name": "ipython",
    "version": 3
   },
   "file_extension": ".py",
   "mimetype": "text/x-python",
   "name": "python",
   "nbconvert_exporter": "python",
   "pygments_lexer": "ipython3",
   "version": "3.8.17"
  },
  "orig_nbformat": 4
 },
 "nbformat": 4,
 "nbformat_minor": 2
}
